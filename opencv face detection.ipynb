{
 "cells": [
  {
   "cell_type": "code",
   "execution_count": null,
   "id": "2c2fc158-ebe9-4183-8acd-b4bbabec7558",
   "metadata": {},
   "outputs": [],
   "source": [
    "import cv2\n",
    "face_cap= cv2.CascadeClassifier(cv2.data.haarcascades + \"haarcascade_frontalface_default.xml\") #face detection\n",
    "video_cap= cv2.VideoCapture(0)\n",
    "while True :\n",
    "    ret,video_data = video_cap.read()\n",
    "    col= cv2.cvtColor(video_data , cv2.COLOR_BGR2GRAY)\n",
    "    faces=face_cap.detectMultiScale(\n",
    "        col,\n",
    "        scaleFactor=1.1,\n",
    "        minNeighbors=5,\n",
    "        minSize= ( 30, 30) ,\n",
    "        flags= cv2.CASCADE_SCALE_IMAGE\n",
    "    )\n",
    "    for (x,y,w,h) in faces:\n",
    "        cv2.rectangle(video_data,(x,y),(x+w,y+h),(0,355,0),2)\n",
    "    cv2.imshow(\"Video_live\",video_data)\n",
    "    if cv2.waitKey(10)== ord(\"a\") :\n",
    "       break\n",
    "video_cap.release()"
   ]
  },
  {
   "cell_type": "code",
   "execution_count": null,
   "id": "b76e8cc6-3ae8-48e1-9223-2d0286d57c11",
   "metadata": {},
   "outputs": [],
   "source": []
  }
 ],
 "metadata": {
  "kernelspec": {
   "display_name": "Python 3 (ipykernel)",
   "language": "python",
   "name": "python3"
  },
  "language_info": {
   "codemirror_mode": {
    "name": "ipython",
    "version": 3
   },
   "file_extension": ".py",
   "mimetype": "text/x-python",
   "name": "python",
   "nbconvert_exporter": "python",
   "pygments_lexer": "ipython3",
   "version": "3.12.5"
  }
 },
 "nbformat": 4,
 "nbformat_minor": 5
}
